{
 "cells": [
  {
   "cell_type": "code",
   "execution_count": 1,
   "metadata": {},
   "outputs": [],
   "source": [
    "import fitz\n",
    "import glob\n",
    "import os"
   ]
  },
  {
   "cell_type": "code",
   "execution_count": 2,
   "metadata": {},
   "outputs": [],
   "source": [
    "os.chdir('C:/Users/lenovo/Desktop/U05A1P1/test')"
   ]
  },
  {
   "cell_type": "code",
   "execution_count": 3,
   "metadata": {},
   "outputs": [
    {
     "data": {
      "text/plain": [
       "['sitarganj_pn_02.PDF', 'U05A1P1.pdf', 'U05A1P2.pdf', 'U05A1P3.pdf']"
      ]
     },
     "execution_count": 3,
     "metadata": {},
     "output_type": "execute_result"
    }
   ],
   "source": [
    "file = glob.glob('*.pdf')\n",
    "\n",
    "file"
   ]
  },
  {
   "cell_type": "code",
   "execution_count": 4,
   "metadata": {},
   "outputs": [],
   "source": [
    "for k in file:\n",
    "    \n",
    "    file=fitz.open(k)\n",
    "    #get the number of pages...\n",
    "    pages=len(file)\n",
    "    #iterating throw every number of pages...\n",
    "    for p in range(pages):\n",
    "    #getting the every image one by one\n",
    "        for image in file.get_page_images(p):\n",
    "\n",
    "        \n",
    "            #identify images...\n",
    "            c=image[0]\n",
    "        \n",
    "            pic=fitz.Pixmap(file,c)\n",
    "            final_pic=fitz.Pixmap(fitz.csRGB,pic)\n",
    "        \n",
    "            final_pic.save(k+\"_Page_\"+str(p+1)+\".jpeg\")\n",
    "            pic=None\n",
    "            final_pic=None\n",
    "    "
   ]
  },
  {
   "cell_type": "code",
   "execution_count": null,
   "metadata": {},
   "outputs": [],
   "source": []
  }
 ],
 "metadata": {
  "kernelspec": {
   "display_name": "Python 3",
   "language": "python",
   "name": "python3"
  },
  "language_info": {
   "codemirror_mode": {
    "name": "ipython",
    "version": 3
   },
   "file_extension": ".py",
   "mimetype": "text/x-python",
   "name": "python",
   "nbconvert_exporter": "python",
   "pygments_lexer": "ipython3",
   "version": "3.8.8"
  }
 },
 "nbformat": 4,
 "nbformat_minor": 4
}
